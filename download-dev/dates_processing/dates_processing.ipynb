{
 "cells": [
  {
   "cell_type": "code",
   "execution_count": 1,
   "metadata": {},
   "outputs": [],
   "source": [
    "import pandas as pd\n",
    "import re"
   ]
  },
  {
   "cell_type": "code",
   "execution_count": 3,
   "metadata": {},
   "outputs": [
    {
     "data": {
      "text/plain": [
       "Index(['Author', 'Video_url', 'Description', 'Hashtags'], dtype='object')"
      ]
     },
     "execution_count": 3,
     "metadata": {},
     "output_type": "execute_result"
    }
   ],
   "source": [
    "# Read info data frame\n",
    "info_path = 'PATH/TO/INFO_FILE/gifts_info.parquet' ####---------------------///---- modify here\n",
    "gifts_new = pd.read_parquet(info_path, engine='fastparquet')\n",
    "gifts_new.columns"
   ]
  },
  {
   "attachments": {},
   "cell_type": "markdown",
   "metadata": {},
   "source": [
    "#### Bring the date information"
   ]
  },
  {
   "cell_type": "code",
   "execution_count": 5,
   "metadata": {},
   "outputs": [
    {
     "data": {
      "text/plain": [
       "Index(['Video_url', 'Upload_date'], dtype='object')"
      ]
     },
     "execution_count": 5,
     "metadata": {},
     "output_type": "execute_result"
    }
   ],
   "source": [
    "dates_path = 'PATH/TO/DATES_FILE/gifts_with_date.parquet' ####---------------------///---- modify here\n",
    "dates = pd.read_parquet(dates_path, engine='fastparquet')\n",
    "dates.columns\n"
   ]
  },
  {
   "cell_type": "code",
   "execution_count": 6,
   "metadata": {},
   "outputs": [
    {
     "data": {
      "text/plain": [
       "Index(['Author', 'Video_url', 'Description', 'Hashtags', 'Upload_date'], dtype='object')"
      ]
     },
     "execution_count": 6,
     "metadata": {},
     "output_type": "execute_result"
    }
   ],
   "source": [
    "gifts_date = gifts_new.merge(dates, left_on='Video_url', right_on='Video_url')\n",
    "gifts_date.columns"
   ]
  },
  {
   "attachments": {},
   "cell_type": "markdown",
   "metadata": {},
   "source": [
    "**OBS:** We do have some None values that correspond to unavailable gifts "
   ]
  },
  {
   "attachments": {},
   "cell_type": "markdown",
   "metadata": {},
   "source": [
    "#### Add a column for download request \n",
    "\n",
    "In our case, we wanted videos uploaded only after 2021"
   ]
  },
  {
   "cell_type": "code",
   "execution_count": 7,
   "metadata": {},
   "outputs": [],
   "source": [
    "def to_be_downloaded(date):\n",
    "    if date is not None:\n",
    "        year = int(date.split('-')[0])\n",
    "        if year >= 2021:\n",
    "            return 'Yes'\n",
    "        else:\n",
    "            return 'No'\n",
    "    else: \n",
    "        return 'No'"
   ]
  },
  {
   "cell_type": "code",
   "execution_count": 8,
   "metadata": {},
   "outputs": [
    {
     "data": {
      "text/plain": [
       "Index(['Author', 'Video_url', 'Description', 'Hashtags', 'Upload_date',\n",
       "       'Download_request'],\n",
       "      dtype='object')"
      ]
     },
     "execution_count": 8,
     "metadata": {},
     "output_type": "execute_result"
    }
   ],
   "source": [
    "gifts_date['Download_request'] = gifts_date.Upload_date.map(to_be_downloaded)\n",
    "gifts_date.columns"
   ]
  },
  {
   "cell_type": "markdown",
   "metadata": {},
   "source": [
    "### Storing new data frame or updating the later"
   ]
  },
  {
   "cell_type": "code",
   "execution_count": 12,
   "metadata": {},
   "outputs": [],
   "source": [
    "download_request_path = 'PATH/TO/DOWNLOAD_REQUEST_INFO/gifts_w_downrequest.parquet' ####---------------------///---- modify here\n",
    "gifts_date.to_parquet(download_request_path, engine='fastparquet')"
   ]
  },
  {
   "cell_type": "code",
   "execution_count": null,
   "metadata": {},
   "outputs": [],
   "source": []
  }
 ],
 "metadata": {
  "kernelspec": {
   "display_name": "tiktok_oct22_v4",
   "language": "python",
   "name": "python3"
  },
  "language_info": {
   "codemirror_mode": {
    "name": "ipython",
    "version": 3
   },
   "file_extension": ".py",
   "mimetype": "text/x-python",
   "name": "python",
   "nbconvert_exporter": "python",
   "pygments_lexer": "ipython3",
   "version": "3.9.16"
  }
 },
 "nbformat": 4,
 "nbformat_minor": 2
}
