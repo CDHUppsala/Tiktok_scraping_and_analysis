{
 "cells": [
  {
   "cell_type": "code",
   "execution_count": 1,
   "metadata": {},
   "outputs": [],
   "source": [
    "import pandas as pd\n",
    "import re"
   ]
  },
  {
   "cell_type": "code",
   "execution_count": 2,
   "metadata": {},
   "outputs": [],
   "source": [
    "def get_hastags(desc):\n",
    "    try:\n",
    "        hashtags = re.findall(r'\\B#\\w*[a-zA-Z]+\\w*', desc)\n",
    "    except:\n",
    "        hashtags = []\n",
    "    return hashtags"
   ]
  },
  {
   "cell_type": "code",
   "execution_count": 159,
   "metadata": {},
   "outputs": [],
   "source": [
    "# Add hashtags\n",
    "path_to_info_parquet = 'PATH/TO/INFO'\n",
    "gifts_info_dataframe = pd.read_parquet(path_to_info_parquet, engine= 'fastparquet')\n",
    "gifts_info_dataframe['Hashtags'] = gifts_info_dataframe.Description.map(get_hastags)\n"
   ]
  },
  {
   "cell_type": "code",
   "execution_count": 161,
   "metadata": {},
   "outputs": [],
   "source": [
    "# Store in a new parquet file\n",
    "path_to_new_output = 'PATH/TO/INFO/WITH_HASHTAG_COLUMN'\n",
    "gifts_info_dataframe.to_parquet(path_to_new_output, engine='fastparquet')\n"
   ]
  },
  {
   "cell_type": "code",
   "execution_count": null,
   "metadata": {},
   "outputs": [],
   "source": []
  }
 ],
 "metadata": {
  "kernelspec": {
   "display_name": "tiktok_oct22_v4",
   "language": "python",
   "name": "python3"
  },
  "language_info": {
   "codemirror_mode": {
    "name": "ipython",
    "version": 3
   },
   "file_extension": ".py",
   "mimetype": "text/x-python",
   "name": "python",
   "nbconvert_exporter": "python",
   "pygments_lexer": "ipython3",
   "version": "3.9.16"
  },
  "orig_nbformat": 4
 },
 "nbformat": 4,
 "nbformat_minor": 2
}
